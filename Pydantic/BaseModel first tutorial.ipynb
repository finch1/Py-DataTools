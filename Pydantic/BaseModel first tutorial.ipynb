{
 "cells": [
  {
   "attachments": {},
   "cell_type": "markdown",
   "metadata": {},
   "source": [
    "https://www.youtube.com/watch?v=gb3arRysqMo"
   ]
  },
  {
   "cell_type": "code",
   "execution_count": 1,
   "metadata": {},
   "outputs": [],
   "source": [
    "from pydantic import BaseModel, ValidationError\n"
   ]
  },
  {
   "cell_type": "code",
   "execution_count": 2,
   "metadata": {},
   "outputs": [],
   "source": [
    "# Inherets from BaseModel\n",
    "class Person(BaseModel):\n",
    "    first_name: str # class attribute:python type hint\n",
    "    last_name: str\n",
    "    age: int"
   ]
  },
  {
   "cell_type": "code",
   "execution_count": 3,
   "metadata": {},
   "outputs": [
    {
     "name": "stdout",
     "output_type": "stream",
     "text": [
      "first_name='Isaac' last_name='Newton' age=84\n"
     ]
    }
   ],
   "source": [
    "# instantiate class\n",
    "p = Person(first_name='Isaac', last_name='Newton', age=84)\n",
    "print(p)"
   ]
  },
  {
   "cell_type": "code",
   "execution_count": 4,
   "metadata": {},
   "outputs": [
    {
     "name": "stdout",
     "output_type": "stream",
     "text": [
      "first_name='100' last_name='200' age=84\n"
     ]
    }
   ],
   "source": [
    "# class casts to type specified. Guaranties type is cast otherwise throws error\n",
    "p = Person(first_name= 100, last_name= 200, age='84')\n",
    "print(p)"
   ]
  },
  {
   "cell_type": "code",
   "execution_count": 5,
   "metadata": {},
   "outputs": [
    {
     "name": "stdout",
     "output_type": "stream",
     "text": [
      "2 validation errors for Person\n",
      "last_name\n",
      "  field required (type=value_error.missing)\n",
      "age\n",
      "  field required (type=value_error.missing)\n"
     ]
    }
   ],
   "source": [
    "try:\n",
    "    Person(first_name='Isaac')\n",
    "except ValidationError as ex:\n",
    "    print(ex)"
   ]
  },
  {
   "cell_type": "code",
   "execution_count": 6,
   "metadata": {},
   "outputs": [],
   "source": [
    "# Optional Attributes for Python >= 3.10\n",
    "\n",
    "# Inherets from BaseModel\n",
    "class Person(BaseModel):\n",
    "    first_name: str # class attribute:python type hint\n",
    "    last_name: str\n",
    "    age: int | None"
   ]
  },
  {
   "cell_type": "code",
   "execution_count": 7,
   "metadata": {},
   "outputs": [
    {
     "name": "stdout",
     "output_type": "stream",
     "text": [
      "first_name='100' last_name='200' age=None\n"
     ]
    }
   ],
   "source": [
    "p = Person(first_name= 100, last_name= 200)\n",
    "print(p)"
   ]
  },
  {
   "cell_type": "code",
   "execution_count": 9,
   "metadata": {},
   "outputs": [],
   "source": [
    "# Optional Attributes for Python >= 3.7\n",
    "from typing import Optional\n",
    "\n",
    "# Inherets from BaseModel\n",
    "class Person(BaseModel):\n",
    "    first_name: str # class attribute:python type hint\n",
    "    last_name: str\n",
    "    age: Optional[int]"
   ]
  },
  {
   "cell_type": "code",
   "execution_count": 10,
   "metadata": {},
   "outputs": [
    {
     "name": "stdout",
     "output_type": "stream",
     "text": [
      "first_name='100' last_name='200' age=None\n"
     ]
    }
   ],
   "source": [
    "p = Person(first_name= 100, last_name= 200)\n",
    "print(p)"
   ]
  },
  {
   "cell_type": "code",
   "execution_count": 11,
   "metadata": {},
   "outputs": [],
   "source": [
    "# Default Values\n",
    "class Person(BaseModel):\n",
    "    first_name: str = None\n",
    "    last_name: str = 'Smith'\n",
    "    age: Optional[int]"
   ]
  },
  {
   "cell_type": "code",
   "execution_count": 12,
   "metadata": {},
   "outputs": [
    {
     "name": "stdout",
     "output_type": "stream",
     "text": [
      "first_name=None last_name='Smith' age=None\n"
     ]
    }
   ],
   "source": [
    "p=Person()\n",
    "print(p)"
   ]
  },
  {
   "cell_type": "code",
   "execution_count": 14,
   "metadata": {},
   "outputs": [
    {
     "name": "stdout",
     "output_type": "stream",
     "text": [
      "{'first_name': None, 'last_name': 'Smith', 'age': None}\n",
      "{\"first_name\": null, \"last_name\": \"Smith\", \"age\": null}\n"
     ]
    }
   ],
   "source": [
    "# Serialize / Transform into Dictionary or JSON\n",
    "# Dict\n",
    "print(p.dict())\n",
    "# JSON\n",
    "print(p.json())"
   ]
  },
  {
   "cell_type": "code",
   "execution_count": 17,
   "metadata": {},
   "outputs": [
    {
     "name": "stdout",
     "output_type": "stream",
     "text": [
      "{'last_name': 'Smith'}\n",
      "{\n",
      "    \"first_name\": null,\n",
      "    \"age\": null\n",
      "}\n"
     ]
    }
   ],
   "source": [
    "# exclude unwanted attributes by specifying a set of strings\n",
    "print(p.dict(exclude={'first_name', 'age'}))\n",
    "# inlude\n",
    "print(p.json(include={'first_name', 'age'}, indent=4))"
   ]
  },
  {
   "cell_type": "code",
   "execution_count": 18,
   "metadata": {},
   "outputs": [
    {
     "name": "stdout",
     "output_type": "stream",
     "text": [
      "first_name='Isaac' last_name='Newton' age=None dob=datetime.date(1994, 1, 2)\n"
     ]
    }
   ],
   "source": [
    "# Deserialize. schema has to match\n",
    "from datetime import date\n",
    "\n",
    "class Person(BaseModel):\n",
    "    first_name: str = None\n",
    "    last_name: str = 'Smith'\n",
    "    age: Optional[int]\n",
    "    dob : date\n",
    "\n",
    "data = {\n",
    "    \"first_name\":\"Isaac\",\n",
    "    \"last_name\":\"Newton\",\n",
    "    \"dob\":date(1994,1,2)\n",
    "}\n",
    "\n",
    "p = Person.parse_obj(data)\n",
    "\n",
    "print(p)"
   ]
  },
  {
   "cell_type": "code",
   "execution_count": 20,
   "metadata": {},
   "outputs": [
    {
     "name": "stdout",
     "output_type": "stream",
     "text": [
      "first_name='Isaac' last_name='Newton' age=None dob=datetime.date(1958, 1, 3)\n"
     ]
    }
   ],
   "source": [
    "# works with multiple date formats\n",
    "data = '''\n",
    "{\n",
    "    \"first_name\":\"Isaac\",\n",
    "    \"last_name\":\"Newton\",\n",
    "    \"dob\":\"1958-1-3\"\n",
    "}\n",
    "'''\n",
    "p = Person.parse_raw(data)\n",
    "\n",
    "print(p)"
   ]
  },
  {
   "cell_type": "code",
   "execution_count": 21,
   "metadata": {},
   "outputs": [],
   "source": [
    "# This example will show how to comply with the JSON naming convention, i.e. camelCase\n",
    "from pydantic import Field\n",
    "\n",
    "class Person(BaseModel):\n",
    "    first_name: str = Field(default=None, alias='firstName') # Field is an instance\n",
    "    last_name: str = Field(alias='lastName')\n",
    "    age: int | None\n",
    "    dob : date"
   ]
  },
  {
   "cell_type": "code",
   "execution_count": 23,
   "metadata": {},
   "outputs": [
    {
     "name": "stdout",
     "output_type": "stream",
     "text": [
      "[\n",
      "  {\n",
      "    \"loc\": [\n",
      "      \"lastName\"\n",
      "    ],\n",
      "    \"msg\": \"field required\",\n",
      "    \"type\": \"value_error.missing\"\n",
      "  }\n",
      "]\n"
     ]
    }
   ],
   "source": [
    "# Pydantic will look for the alias name\n",
    "try:\n",
    "    p = Person(firstName=\"Mike\", age=68, dob='1995-1-10')\n",
    "except ValidationError as ex:\n",
    "    print(ex.json())"
   ]
  },
  {
   "cell_type": "code",
   "execution_count": 33,
   "metadata": {},
   "outputs": [
    {
     "name": "stdout",
     "output_type": "stream",
     "text": [
      "first_name='Isam' last_name='Burk' age=89 dob=datetime.date(2022, 1, 1)\n"
     ]
    }
   ],
   "source": [
    "# Using a mixture of field names and aliases\n",
    "\n",
    "class Person(BaseModel):\n",
    "    first_name : str = Field(alias='firstName', default=None)\n",
    "    last_name : str = Field(alias='lastName')\n",
    "    age : int\n",
    "    dob : date\n",
    "\n",
    "    # our custom configuration\n",
    "    class Config:\n",
    "        allow_population_by_field_name = True\n",
    "\n",
    "p = Person(firstName=\"Isam\", last_name=\"Burk\", age=89, dob=\"2022-01-01\")\n",
    "print(p)"
   ]
  },
  {
   "cell_type": "code",
   "execution_count": 40,
   "metadata": {},
   "outputs": [
    {
     "name": "stdout",
     "output_type": "stream",
     "text": [
      "first_name='Isaac' last_name='Newton' age=5 dob=datetime.date(1958, 1, 3)\n",
      "first_name='Isaac' last_name='Newton' age=5 dob=datetime.date(1958, 1, 3)\n"
     ]
    }
   ],
   "source": [
    " # The alias is helpful when the source attribute names might not match the class\n",
    "\n",
    "\n",
    "data = {\n",
    "    \"firstName\":\"Isaac\",\n",
    "    \"lastName\":\"Newton\",\n",
    "    \"age\":5,\n",
    "    \"dob\":\"1958-1-3\"\n",
    "}\n",
    "\n",
    "p = Person.parse_obj(data)\n",
    "print(p)\n",
    "\n",
    "data2 = '''\n",
    "{\n",
    "    \"first_name\":\"Isaac\",\n",
    "    \"last_name\":\"Newton\",\n",
    "    \"age\":\"5\",\n",
    "    \"dob\":\"1958-1-3\"\n",
    "}\n",
    "'''\n",
    "p = Person.parse_raw(data2)\n",
    "print(p)\n",
    "# field names printed"
   ]
  },
  {
   "cell_type": "code",
   "execution_count": 41,
   "metadata": {},
   "outputs": [
    {
     "name": "stdout",
     "output_type": "stream",
     "text": [
      "{'first_name': 'Isaac', 'last_name': 'Newton', 'age': 5, 'dob': datetime.date(1958, 1, 3)}\n",
      "{'firstName': 'Isaac', 'lastName': 'Newton', 'age': 5, 'dob': datetime.date(1958, 1, 3)}\n",
      "{\"firstName\": \"Isaac\", \"lastName\": \"Newton\", \"age\": 5, \"dob\": \"1958-01-03\"}\n"
     ]
    }
   ],
   "source": [
    "# field names printed\n",
    "print(p.dict())\n",
    "\n",
    "# However we can instruct the Serializers to use the aliase names\n",
    "print(p.dict(by_alias=True))\n",
    "print(p.json(by_alias=True))"
   ]
  },
  {
   "attachments": {},
   "cell_type": "markdown",
   "metadata": {},
   "source": [
    "# Validation"
   ]
  },
  {
   "cell_type": "code",
   "execution_count": 42,
   "metadata": {},
   "outputs": [
    {
     "name": "stdout",
     "output_type": "stream",
     "text": [
      "{'firstName': 'Isaac', 'lastName': 'Newton', 'age': 5, 'dob': '1958-1-3', 'junk': 'extra field'}\n",
      "first_name='Isaac' last_name='Newton' age=5 dob=datetime.date(1958, 1, 3)\n"
     ]
    }
   ],
   "source": [
    "# smart way of concat dictionaries\n",
    "data_junk = {**data, \"junk\":\"extra field\"}\n",
    "print(data_junk)\n",
    "\n",
    "# Pydantic ignores the field which is not mapped\n",
    "p = Person.parse_obj(data_junk)\n",
    "print(p)"
   ]
  },
  {
   "cell_type": "code",
   "execution_count": 45,
   "metadata": {},
   "outputs": [
    {
     "name": "stdout",
     "output_type": "stream",
     "text": [
      "[\n",
      "  {\n",
      "    \"loc\": [\n",
      "      \"junk\"\n",
      "    ],\n",
      "    \"msg\": \"extra fields not permitted\",\n",
      "    \"type\": \"value_error.extra\"\n",
      "  }\n",
      "]\n"
     ]
    }
   ],
   "source": [
    "# To get a validation error when extra attributes are detected to be parsed, change the config\n",
    "from pydantic import Extra\n",
    "\n",
    "class Person(BaseModel):\n",
    "    first_name : str = Field(alias='firstName', default=None)\n",
    "    last_name : str = Field(alias='lastName')\n",
    "    age : int\n",
    "    dob : date\n",
    "\n",
    "    # our custom configuration\n",
    "    class Config:\n",
    "        allow_population_by_field_name = True # allows us to work with either field name or alias\n",
    "        extra = Extra.forbid\n",
    "\n",
    "try:\n",
    "    p = Person.parse_obj(data_junk)\n",
    "    print(p)\n",
    "except ValidationError as ex:\n",
    "    print(ex.json())"
   ]
  },
  {
   "cell_type": "code",
   "execution_count": 60,
   "metadata": {},
   "outputs": [
    {
     "name": "stdout",
     "output_type": "stream",
     "text": [
      "age=140 name='Name'\n"
     ]
    },
    {
     "ename": "ValidationError",
     "evalue": "1 validation error for Test\nname\n  ensure this value has at least 2 characters (type=value_error.any_str.min_length; limit_value=2)",
     "output_type": "error",
     "traceback": [
      "\u001b[1;31m---------------------------------------------------------------------------\u001b[0m",
      "\u001b[1;31mValidationError\u001b[0m                           Traceback (most recent call last)",
      "Cell \u001b[1;32mIn[60], line 17\u001b[0m\n\u001b[0;32m     12\u001b[0m     \u001b[39m# strict = if something is castable to string but is not actually a string, throw an error. value must strictly be string\u001b[39;00m\n\u001b[0;32m     13\u001b[0m     \u001b[39m# curtail_length = truncate to first 25 characters instead of using max_length and throwing error \u001b[39;00m\n\u001b[0;32m     16\u001b[0m \u001b[39mprint\u001b[39m(Test(age\u001b[39m=\u001b[39m\u001b[39m140\u001b[39m, name\u001b[39m=\u001b[39m\u001b[39m\"\u001b[39m\u001b[39m    Name \u001b[39m\u001b[39m\"\u001b[39m))\n\u001b[1;32m---> 17\u001b[0m \u001b[39mprint\u001b[39m(Test(age\u001b[39m=\u001b[39;49m\u001b[39m140\u001b[39;49m, name\u001b[39m=\u001b[39;49m\u001b[39m\"\u001b[39;49m\u001b[39m    N \u001b[39;49m\u001b[39m\"\u001b[39;49m))\n",
      "File \u001b[1;32mc:\\Users\\tokyo\\AppData\\Local\\Programs\\Python\\Python310\\lib\\site-packages\\pydantic\\main.py:342\u001b[0m, in \u001b[0;36mpydantic.main.BaseModel.__init__\u001b[1;34m()\u001b[0m\n",
      "\u001b[1;31mValidationError\u001b[0m: 1 validation error for Test\nname\n  ensure this value has at least 2 characters (type=value_error.any_str.min_length; limit_value=2)"
     ]
    }
   ],
   "source": [
    "from pydantic import conint, constr\n",
    "\n",
    "class CustomBaseModel(BaseModel):\n",
    "    class Config:\n",
    "        extra = Extra.forbid\n",
    "        allow_population_by_field_name = True\n",
    "        \n",
    "\n",
    "class Test(CustomBaseModel):\n",
    "    age : conint(gt=0, le=150)\n",
    "    name : constr(strip_whitespace = True, min_length=2, strict=True, curtail_length=25) \n",
    "    # strict = if something is castable to string but is not actually a string, throw an error. value must strictly be string\n",
    "    # curtail_length = truncate to first 25 characters instead of using max_length and throwing error \n",
    "\n",
    "\n",
    "print(Test(age=140, name=\"    Name \"))\n",
    "print(Test(age=140, name=\"    N \"))"
   ]
  },
  {
   "cell_type": "code",
   "execution_count": 51,
   "metadata": {},
   "outputs": [],
   "source": [
    "from pydantic import validator\n",
    "\n",
    "class Test(CustomBaseModel):\n",
    "    hash_tag:str\n",
    "\n",
    "    @validator('hash_tag') # validator decorator\n",
    "    def validate_hash_tag(cls, value):\n",
    "        # the validator will try to parse, and returns the value if no errors are detected\n",
    "        if not value.startswith('#'):\n",
    "            raise ValueError(\"Has tag must start with a #\")\n",
    "        return value.lower()"
   ]
  },
  {
   "cell_type": "code",
   "execution_count": 52,
   "metadata": {},
   "outputs": [
    {
     "name": "stdout",
     "output_type": "stream",
     "text": [
      "#test\n"
     ]
    }
   ],
   "source": [
    "t = Test(hash_tag=\"#Test\")\n",
    "print(t.hash_tag)"
   ]
  },
  {
   "cell_type": "code",
   "execution_count": 53,
   "metadata": {},
   "outputs": [
    {
     "name": "stdout",
     "output_type": "stream",
     "text": [
      "Test\n"
     ]
    }
   ],
   "source": [
    "# changing the value again, wont perform the test\n",
    "t.hash_tag = \"Test\"\n",
    "print(t.hash_tag)"
   ]
  },
  {
   "cell_type": "code",
   "execution_count": 54,
   "metadata": {},
   "outputs": [
    {
     "ename": "ValidationError",
     "evalue": "1 validation error for Test\nhash_tag\n  Has tag must start with a # (type=value_error)",
     "output_type": "error",
     "traceback": [
      "\u001b[1;31m---------------------------------------------------------------------------\u001b[0m",
      "\u001b[1;31mValidationError\u001b[0m                           Traceback (most recent call last)",
      "Cell \u001b[1;32mIn[54], line 1\u001b[0m\n\u001b[1;32m----> 1\u001b[0m t \u001b[39m=\u001b[39m Test(hash_tag\u001b[39m=\u001b[39;49m\u001b[39m\"\u001b[39;49m\u001b[39mTest\u001b[39;49m\u001b[39m\"\u001b[39;49m)\n\u001b[0;32m      2\u001b[0m \u001b[39mprint\u001b[39m(t\u001b[39m.\u001b[39mhash_tag)\n",
      "File \u001b[1;32mc:\\Users\\tokyo\\AppData\\Local\\Programs\\Python\\Python310\\lib\\site-packages\\pydantic\\main.py:342\u001b[0m, in \u001b[0;36mpydantic.main.BaseModel.__init__\u001b[1;34m()\u001b[0m\n",
      "\u001b[1;31mValidationError\u001b[0m: 1 validation error for Test\nhash_tag\n  Has tag must start with a # (type=value_error)"
     ]
    }
   ],
   "source": [
    "t = Test(hash_tag=\"Test\")\n",
    "print(t.hash_tag)"
   ]
  },
  {
   "cell_type": "code",
   "execution_count": 55,
   "metadata": {},
   "outputs": [],
   "source": [
    "class Test(CustomBaseModel):\n",
    "    hash_tag:constr(min_length=5, strip_whitespace=True) # these checks are performed before the validator decorator\n",
    "\n",
    "    @validator(\"hash_tag\")\n",
    "    def validate_hash_tag(cls, value):\n",
    "        if not value.startswith('#'):\n",
    "            return f\"#{value.lower()}\" # if the hash tag was missed, pre-pend it\n",
    "        return value.lower()"
   ]
  },
  {
   "cell_type": "code",
   "execution_count": 56,
   "metadata": {},
   "outputs": [
    {
     "ename": "ValidationError",
     "evalue": "1 validation error for Test\nhash_tag\n  ensure this value has at least 5 characters (type=value_error.any_str.min_length; limit_value=5)",
     "output_type": "error",
     "traceback": [
      "\u001b[1;31m---------------------------------------------------------------------------\u001b[0m",
      "\u001b[1;31mValidationError\u001b[0m                           Traceback (most recent call last)",
      "Cell \u001b[1;32mIn[56], line 1\u001b[0m\n\u001b[1;32m----> 1\u001b[0m t \u001b[39m=\u001b[39m Test(hash_tag\u001b[39m=\u001b[39;49m\u001b[39m\"\u001b[39;49m\u001b[39mTest\u001b[39;49m\u001b[39m\"\u001b[39;49m)\n",
      "File \u001b[1;32mc:\\Users\\tokyo\\AppData\\Local\\Programs\\Python\\Python310\\lib\\site-packages\\pydantic\\main.py:342\u001b[0m, in \u001b[0;36mpydantic.main.BaseModel.__init__\u001b[1;34m()\u001b[0m\n",
      "\u001b[1;31mValidationError\u001b[0m: 1 validation error for Test\nhash_tag\n  ensure this value has at least 5 characters (type=value_error.any_str.min_length; limit_value=5)"
     ]
    }
   ],
   "source": [
    "t = Test(hash_tag=\"Test\")\n"
   ]
  },
  {
   "cell_type": "code",
   "execution_count": 57,
   "metadata": {},
   "outputs": [
    {
     "name": "stdout",
     "output_type": "stream",
     "text": [
      "{'hash_tag': '#test2'}\n"
     ]
    }
   ],
   "source": [
    "t = Test(hash_tag=\"Test2\")\n",
    "print(t.dict())"
   ]
  },
  {
   "cell_type": "code",
   "execution_count": 61,
   "metadata": {},
   "outputs": [],
   "source": [
    "from enum import Enum\n",
    "from typing import List, Tuple, Union\n",
    "\n",
    "class PolygonType(Enum):\n",
    "    traingle = 3\n",
    "    tetragon = 4\n",
    "    pentagon = 5\n",
    "    hexagon = 6\n",
    "    \n",
    "\n",
    "class PolygonModel(CustomBaseModel):\n",
    "    polygon_type: PolygonType # custom defined class\n",
    "    vertices: List[Tuple[Union[int, float], Union[int, float]]]\n",
    "\n",
    "    @validator('vertices')\n",
    "    def validate_vertices(cls, value, values):  # pydantic is specifically looking for value and values. gotta type these \n",
    "        polygon_type = values.get('polygon_type')\n",
    "        if polygon_type:\n",
    "            num_vertices_required = polygon_type.value\n",
    "            if len(value) != num_vertices_required:\n",
    "                raise ValueError(\n",
    "                    f\"For a {polygon_type.name}, exactly {polygon_type.value} \"\"vertices are required.\"\n",
    "                )\n",
    "        return value"
   ]
  },
  {
   "cell_type": "code",
   "execution_count": 62,
   "metadata": {},
   "outputs": [
    {
     "name": "stdout",
     "output_type": "stream",
     "text": [
      "3\n",
      "traingle\n"
     ]
    }
   ],
   "source": [
    "t = PolygonType.traingle\n",
    "print(t.value)\n",
    "print(t.name)"
   ]
  },
  {
   "cell_type": "code",
   "execution_count": 63,
   "metadata": {},
   "outputs": [
    {
     "data": {
      "text/plain": [
       "PolygonModel(polygon_type=<PolygonType.traingle: 3>, vertices=[(1, 1), (2, 2), (3, 3)])"
      ]
     },
     "execution_count": 63,
     "metadata": {},
     "output_type": "execute_result"
    }
   ],
   "source": [
    "PolygonModel(polygon_type=PolygonType.traingle, vertices=[(1,1), (2,2), (3,3)])"
   ]
  },
  {
   "cell_type": "code",
   "execution_count": 65,
   "metadata": {},
   "outputs": [
    {
     "ename": "ValidationError",
     "evalue": "2 validation errors for PolygonModel\nvertices -> 1 -> 1\n  value is not a valid integer (type=type_error.integer)\nvertices -> 1 -> 1\n  value is not a valid float (type=type_error.float)",
     "output_type": "error",
     "traceback": [
      "\u001b[1;31m---------------------------------------------------------------------------\u001b[0m",
      "\u001b[1;31mValidationError\u001b[0m                           Traceback (most recent call last)",
      "Cell \u001b[1;32mIn[65], line 1\u001b[0m\n\u001b[1;32m----> 1\u001b[0m PolygonModel(polygon_type\u001b[39m=\u001b[39;49mPolygonType\u001b[39m.\u001b[39;49mtraingle, vertices\u001b[39m=\u001b[39;49m[(\u001b[39m1\u001b[39;49m,\u001b[39m1\u001b[39;49m), (\u001b[39m2\u001b[39;49m,\u001b[39m2\u001b[39;49m\u001b[39m+\u001b[39;49m\u001b[39m2\u001b[39;49mj), (\u001b[39m3\u001b[39;49m,\u001b[39m3\u001b[39;49m)])\n",
      "File \u001b[1;32mc:\\Users\\tokyo\\AppData\\Local\\Programs\\Python\\Python310\\lib\\site-packages\\pydantic\\main.py:342\u001b[0m, in \u001b[0;36mpydantic.main.BaseModel.__init__\u001b[1;34m()\u001b[0m\n",
      "\u001b[1;31mValidationError\u001b[0m: 2 validation errors for PolygonModel\nvertices -> 1 -> 1\n  value is not a valid integer (type=type_error.integer)\nvertices -> 1 -> 1\n  value is not a valid float (type=type_error.float)"
     ]
    }
   ],
   "source": [
    "PolygonModel(polygon_type=PolygonType.traingle, vertices=[(1,1), (2,2+2j), (3,3)])\n",
    "# vertices -> 1 -> 1 \n",
    "# implies tuple 1, position 1"
   ]
  },
  {
   "attachments": {},
   "cell_type": "markdown",
   "metadata": {},
   "source": [
    "- post\n",
    "- - byline (one or more authors)\n",
    "- - - author:\n",
    "- - - - first_name (required, min 2 chars, max 20 chars)\n",
    "- - - - last_name (required, min 2 chars, max 20 chars)\n",
    "- - - - display name (optional, default to first name, intitial od  last name, min 1 char, max 25 char)\n",
    "- - title (required, at least 10 char, no more than 50, force title case)\n",
    "- - sub title (optional, if present at least 20 characters, max 100)\n",
    "- - body (required, at least 100 characters, no upper limit)\n",
    "- - links (0 or more)\n",
    "- - - link:\n",
    "- - - - name (required, min 2 chars, max 25 chars)\n",
    "- - - - url (required, valid url, that must include scheme (http/https))"
   ]
  },
  {
   "cell_type": "code",
   "execution_count": 90,
   "metadata": {},
   "outputs": [],
   "source": [
    "from pydantic import AnyHttpUrl\n",
    "class Link(CustomBaseModel):\n",
    "    name: constr(min_length=5, max_length=25)\n",
    "    url: AnyHttpUrl\n",
    "\n",
    "class Author(CustomBaseModel):\n",
    "    first_name: constr(min_length=2, max_length=20, strip_whitespace=True)\n",
    "    last_name: constr(min_length=2, max_length=20, strip_whitespace=True)\n",
    "    display_name: constr(min_length=1, max_length=25) = None    # constraints + default value\n",
    "    url: List[Link] = []\n",
    "\n",
    "    # always = True forces the validator to run, even if display_name is None, this is how we can set a dynamic default value\n",
    "    @validator(\"display_name\", always=True)\n",
    "    def validate_display_name(cls, value, values):\n",
    "        # validator runs, even if previous did not valudate properly - so we need to run our code only if prior fields validated OK\n",
    "        if not value and 'first_name' in values and 'last_name' in values:\n",
    "            first_name = values['first_name']\n",
    "            last_name = values['last_name']\n",
    "            return f\"{first_name} {(last_name[0]).upper()}\" # concat a dynamic default value\n",
    "        return value"
   ]
  },
  {
   "cell_type": "code",
   "execution_count": 92,
   "metadata": {},
   "outputs": [
    {
     "data": {
      "text/plain": [
       "Author(first_name='Gail', last_name='Nightingale', display_name='Gail N', url=[Link(name='google', url=AnyHttpUrl('https://www.gogle.com', ))])"
      ]
     },
     "execution_count": 92,
     "metadata": {},
     "output_type": "execute_result"
    }
   ],
   "source": [
    "Author(first_name=\"Gail\", last_name=\"Nightingale\", url=[Link(name=\"google\", url=\"https://www.gogle.com\")])"
   ]
  },
  {
   "cell_type": "code",
   "execution_count": 93,
   "metadata": {},
   "outputs": [
    {
     "data": {
      "text/plain": [
       "Author(first_name='Gail', last_name='Nightingale', display_name='GN', url=[])"
      ]
     },
     "execution_count": 93,
     "metadata": {},
     "output_type": "execute_result"
    }
   ],
   "source": [
    "Author(first_name=\"Gail\", last_name=\"Nightingale\", display_name=\"GN\")"
   ]
  },
  {
   "cell_type": "code",
   "execution_count": 94,
   "metadata": {},
   "outputs": [
    {
     "ename": "ValidationError",
     "evalue": "2 validation errors for Author\nfirst_name\n  ensure this value has at least 2 characters (type=value_error.any_str.min_length; limit_value=2)\nlast_name\n  ensure this value has at least 2 characters (type=value_error.any_str.min_length; limit_value=2)",
     "output_type": "error",
     "traceback": [
      "\u001b[1;31m---------------------------------------------------------------------------\u001b[0m",
      "\u001b[1;31mValidationError\u001b[0m                           Traceback (most recent call last)",
      "Cell \u001b[1;32mIn[94], line 1\u001b[0m\n\u001b[1;32m----> 1\u001b[0m Author(first_name\u001b[39m=\u001b[39;49m\u001b[39m\"\u001b[39;49m\u001b[39mX\u001b[39;49m\u001b[39m\"\u001b[39;49m, last_name\u001b[39m=\u001b[39;49m\u001b[39m\"\u001b[39;49m\u001b[39mY\u001b[39;49m\u001b[39m\"\u001b[39;49m)\n",
      "File \u001b[1;32mc:\\Users\\tokyo\\AppData\\Local\\Programs\\Python\\Python310\\lib\\site-packages\\pydantic\\main.py:342\u001b[0m, in \u001b[0;36mpydantic.main.BaseModel.__init__\u001b[1;34m()\u001b[0m\n",
      "\u001b[1;31mValidationError\u001b[0m: 2 validation errors for Author\nfirst_name\n  ensure this value has at least 2 characters (type=value_error.any_str.min_length; limit_value=2)\nlast_name\n  ensure this value has at least 2 characters (type=value_error.any_str.min_length; limit_value=2)"
     ]
    }
   ],
   "source": [
    "Author(first_name=\"X\", last_name=\"Y\")"
   ]
  },
  {
   "cell_type": "code",
   "execution_count": 95,
   "metadata": {},
   "outputs": [],
   "source": [
    "from pydantic import conlist\n",
    "\n",
    "class Post(CustomBaseModel):\n",
    "    byline: conlist(item_type=Author, min_items=1) # a list of defined objects\n",
    "    title: constr(min_length=10, max_length=50, strip_whitespace=True)\n",
    "    sub_title: constr(min_length=20, max_length=50, strip_whitespace=True) = None\n",
    "    body: constr(min_length=100)\n",
    "\n",
    "    @validator('title')\n",
    "    def validator_title(cls, value):\n",
    "        return value and value.title() # this is a text trick to convert first character as captial"
   ]
  },
  {
   "cell_type": "code",
   "execution_count": 98,
   "metadata": {},
   "outputs": [
    {
     "name": "stdout",
     "output_type": "stream",
     "text": [
      "{\n",
      "  \"byline\": [\n",
      "    {\n",
      "      \"first_name\": \"XX\",\n",
      "      \"last_name\": \"YY\",\n",
      "      \"display_name\": \"XX Y\",\n",
      "      \"url\": [\n",
      "        {\n",
      "          \"name\": \"Google\",\n",
      "          \"url\": \"http://www.G.com\"\n",
      "        }\n",
      "      ]\n",
      "    }\n",
      "  ],\n",
      "  \"title\": \"Abcd Efgh Ij\",\n",
      "  \"sub_title\": \"rrrrrrrrrrrrrrrrrrrrrrrrrrrrrrrrrrrrrrrr\",\n",
      "  \"body\": \"tttttttttttttttttttttttttttttttttttttttttttttttttttttttttttttttttttttttttttttttttttttttttttttttttttttttttttttttttttttttttttttttttttttttttttttttttttttttttttttttttttttttttttttttttttttttttttttttttttttttt\"\n",
      "}\n"
     ]
    }
   ],
   "source": [
    "p = Post(\n",
    "            byline=[\n",
    "                        Author(first_name=\"XX\", last_name=\"YY\", \n",
    "                                url=[\n",
    "                                        Link(name=\"Google\", url=\"http://www.G.com\")\n",
    "                                    ]\n",
    "                                )\n",
    "                    ], \n",
    "            title=\"ABCD EFGH IJ\", \n",
    "            sub_title=\"r\"*40, \n",
    "            body=\"t\"*200\n",
    "        )\n",
    "print(p.json(indent=2)) "
   ]
  },
  {
   "cell_type": "code",
   "execution_count": 100,
   "metadata": {},
   "outputs": [
    {
     "name": "stdout",
     "output_type": "stream",
     "text": [
      "{\n",
      "  \"byline\": [\n",
      "    {\n",
      "      \"first_name\": \"XX\",\n",
      "      \"last_name\": \"YY\",\n",
      "      \"display_name\": \"XX Y\",\n",
      "      \"url\": [\n",
      "        {\n",
      "          \"name\": \"Google\",\n",
      "          \"url\": \"http://www.G.com\"\n",
      "        }\n",
      "      ]\n",
      "    }\n",
      "  ],\n",
      "  \"title\": \"Abcd Efgh Ij\",\n",
      "  \"sub_title\": \"rrrrrrrrrrrrrrrrrrrrrrrrrrrrrrrrrrrrrrrr\",\n",
      "  \"body\": \"tttttttttttttttttttttttttttttttttttttttttttttttttttttttttttttttttttttttttttttttttttttttttttttttttttttttttttttttttttttttttttttttttttttttttttttttttttttttttttttttttttttttttttttttttttttttttttttttttttttttt\"\n",
      "}\n"
     ]
    }
   ],
   "source": [
    "# check. Serialize and Deserialize\n",
    "pp = Post.parse_raw(p.json(indent=2))\n",
    "\n",
    "print(pp.json(indent=2))"
   ]
  },
  {
   "cell_type": "code",
   "execution_count": 106,
   "metadata": {},
   "outputs": [
    {
     "data": {
      "text/plain": [
       "[Author(first_name='XX', last_name='YY', display_name='XX Y', url=[Link(name='Google', url=AnyHttpUrl('http://www.G.com', ))]),\n",
       " Author(first_name='Cx', last_name='Cy', display_name='Cx C', url=[]),\n",
       " Author(first_name='Cx', last_name='Cy', display_name='Cx C', url=[]),\n",
       " Author(first_name='Cx', last_name='Cy', display_name='Cx C', url=[]),\n",
       " Author(first_name='Cx', last_name='Cy', display_name='Cx C', url=[]),\n",
       " Author(first_name='Cx', last_name='Cy', display_name='Cx C', url=[])]"
      ]
     },
     "execution_count": 106,
     "metadata": {},
     "output_type": "execute_result"
    }
   ],
   "source": [
    "# Add more to a list. This gets actually validated\n",
    "pp.byline.append(Author(first_name=\"Cx\", last_name=\"Cy\"))\n",
    "\n",
    "pp.byline"
   ]
  },
  {
   "cell_type": "code",
   "execution_count": 109,
   "metadata": {},
   "outputs": [
    {
     "name": "stdout",
     "output_type": "stream",
     "text": [
      "{\n",
      "  \"title\": \"Post\",\n",
      "  \"type\": \"object\",\n",
      "  \"properties\": {\n",
      "    \"byline\": {\n",
      "      \"title\": \"Byline\",\n",
      "      \"minItems\": 1,\n",
      "      \"type\": \"array\",\n",
      "      \"items\": {\n",
      "        \"$ref\": \"#/definitions/Author\"\n",
      "      }\n",
      "    },\n",
      "    \"title\": {\n",
      "      \"title\": \"Title\",\n",
      "      \"minLength\": 10,\n",
      "      \"maxLength\": 50,\n",
      "      \"type\": \"string\"\n",
      "    },\n",
      "    \"sub_title\": {\n",
      "      \"title\": \"Sub Title\",\n",
      "      \"minLength\": 20,\n",
      "      \"maxLength\": 50,\n",
      "      \"type\": \"string\"\n",
      "    },\n",
      "    \"body\": {\n",
      "      \"title\": \"Body\",\n",
      "      \"minLength\": 100,\n",
      "      \"type\": \"string\"\n",
      "    }\n",
      "  },\n",
      "  \"required\": [\n",
      "    \"byline\",\n",
      "    \"title\",\n",
      "    \"body\"\n",
      "  ],\n",
      "  \"additionalProperties\": false,\n",
      "  \"definitions\": {\n",
      "    \"Link\": {\n",
      "      \"title\": \"Link\",\n",
      "      \"type\": \"object\",\n",
      "      \"properties\": {\n",
      "        \"name\": {\n",
      "          \"title\": \"Name\",\n",
      "          \"minLength\": 5,\n",
      "          \"maxLength\": 25,\n",
      "          \"type\": \"string\"\n",
      "        },\n",
      "        \"url\": {\n",
      "          \"title\": \"Url\",\n",
      "          \"minLength\": 1,\n",
      "          \"maxLength\": 65536,\n",
      "          \"format\": \"uri\",\n",
      "          \"type\": \"string\"\n",
      "        }\n",
      "      },\n",
      "      \"required\": [\n",
      "        \"name\",\n",
      "        \"url\"\n",
      "      ],\n",
      "      \"additionalProperties\": false\n",
      "    },\n",
      "    \"Author\": {\n",
      "      \"title\": \"Author\",\n",
      "      \"type\": \"object\",\n",
      "      \"properties\": {\n",
      "        \"first_name\": {\n",
      "          \"title\": \"First Name\",\n",
      "          \"minLength\": 2,\n",
      "          \"maxLength\": 20,\n",
      "          \"type\": \"string\"\n",
      "        },\n",
      "        \"last_name\": {\n",
      "          \"title\": \"Last Name\",\n",
      "          \"minLength\": 2,\n",
      "          \"maxLength\": 20,\n",
      "          \"type\": \"string\"\n",
      "        },\n",
      "        \"display_name\": {\n",
      "          \"title\": \"Display Name\",\n",
      "          \"minLength\": 1,\n",
      "          \"maxLength\": 25,\n",
      "          \"type\": \"string\"\n",
      "        },\n",
      "        \"url\": {\n",
      "          \"title\": \"Url\",\n",
      "          \"default\": [],\n",
      "          \"type\": \"array\",\n",
      "          \"items\": {\n",
      "            \"$ref\": \"#/definitions/Link\"\n",
      "          }\n",
      "        }\n",
      "      },\n",
      "      \"required\": [\n",
      "        \"first_name\",\n",
      "        \"last_name\"\n",
      "      ],\n",
      "      \"additionalProperties\": false\n",
      "    }\n",
      "  }\n",
      "}\n"
     ]
    }
   ],
   "source": [
    "# print JSON Schema\n",
    "# Fast API leverages pytdantic cause it can read the JSON Schema\n",
    "print(Post.schema_json(indent=2))"
   ]
  },
  {
   "attachments": {},
   "cell_type": "markdown",
   "metadata": {},
   "source": [
    "# Dataclass"
   ]
  },
  {
   "cell_type": "markdown",
   "metadata": {},
   "source": []
  },
  {
   "cell_type": "markdown",
   "metadata": {},
   "source": []
  },
  {
   "cell_type": "code",
   "execution_count": 141,
   "metadata": {},
   "outputs": [],
   "source": [
    "import xml.etree.ElementTree as ET\n",
    "\n",
    "class Person(BaseModel):\n",
    "    name:str\n",
    "    surname:str\n",
    "    dob:date = None\n",
    "\n",
    "    def toXML(self):\n",
    "        naturalsubject = ET.Element(\"naturalsubject\")\n",
    "        ET.SubElement(naturalsubject, \"name\").text = self.name # values['name']\n",
    "        ET.SubElement(naturalsubject, \"surname\").text = self.surname\n",
    "        ET.SubElement(naturalsubject, \"dob\").text = self.dob\n",
    "        print(ET.dump(naturalsubject))\n",
    "        return ET.Element(naturalsubject)\n",
    "\n",
    "class Entity(BaseModel):\n",
    "    name:str\n",
    "    incorpNum:int | None\n"
   ]
  },
  {
   "cell_type": "code",
   "execution_count": 144,
   "metadata": {},
   "outputs": [
    {
     "name": "stdout",
     "output_type": "stream",
     "text": [
      "<naturalsubject><name>TheName</name><surname>TheSurname</surname><dob /></naturalsubject>\n",
      "None\n",
      "{\"name\": \"EntityName\"}\n"
     ]
    }
   ],
   "source": [
    "p = Person(name=\"TheName\", surname=\"TheSurname\")\n",
    "p.toXML()\n",
    "\n",
    "e = Entity(name=\"EntityName\")\n",
    "print(e.json(exclude_unset=True, exclude_none=True))"
   ]
  },
  {
   "cell_type": "code",
   "execution_count": 14,
   "metadata": {},
   "outputs": [
    {
     "name": "stdout",
     "output_type": "stream",
     "text": [
      "8fc96cee-ed19-4686-9e17-1664ff7ef839\n",
      "14d4875f-3da2-5cae-a825-c4c75992d243\n"
     ]
    }
   ],
   "source": [
    "import uuid\n",
    "\n",
    "print(str(uuid.uuid4())) # for all objects\n",
    "\n",
    "print(str(uuid.uuid5(uuid.NAMESPACE_DNS,'803010'))) # track reports and their equivalent guid"
   ]
  }
 ],
 "metadata": {
  "kernelspec": {
   "display_name": "Python 3",
   "language": "python",
   "name": "python3"
  },
  "language_info": {
   "codemirror_mode": {
    "name": "ipython",
    "version": 3
   },
   "file_extension": ".py",
   "mimetype": "text/x-python",
   "name": "python",
   "nbconvert_exporter": "python",
   "pygments_lexer": "ipython3",
   "version": "3.10.0"
  },
  "orig_nbformat": 4,
  "vscode": {
   "interpreter": {
    "hash": "988c5f4323dd83b4d3649540165e82fe7dd7552b482fe14e976650862edffb47"
   }
  }
 },
 "nbformat": 4,
 "nbformat_minor": 2
}
